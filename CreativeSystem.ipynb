{
  "nbformat": 4,
  "nbformat_minor": 0,
  "metadata": {
    "colab": {
      "provenance": [],
      "authorship_tag": "ABX9TyMHK+146MlDtvnSFb5Kf/pe",
      "include_colab_link": true
    },
    "kernelspec": {
      "name": "python3",
      "display_name": "Python 3"
    },
    "language_info": {
      "name": "python"
    }
  },
  "cells": [
    {
      "cell_type": "markdown",
      "metadata": {
        "id": "view-in-github",
        "colab_type": "text"
      },
      "source": [
        "<a href=\"https://colab.research.google.com/github/vhinatav/IAT460-FinalProject/blob/main/CreativeSystem.ipynb\" target=\"_parent\"><img src=\"https://colab.research.google.com/assets/colab-badge.svg\" alt=\"Open In Colab\"/></a>"
      ]
    },
    {
      "cell_type": "markdown",
      "source": [
        "#**Colour Palette Generator with a Markov Chain Model**\n",
        "\n",
        "This system generates a colour palette based on user-provided keywords using a Markov Chain model. It selects colours from predefined themes, constructs a Markov model to determine color transitions, and then visualizes the resulting palette using an image."
      ],
      "metadata": {
        "id": "MoZvxlHooCHr"
      }
    },
    {
      "cell_type": "markdown",
      "source": [
        "##Import Necessary Libraries"
      ],
      "metadata": {
        "id": "lukGA3FWoXcR"
      }
    },
    {
      "cell_type": "code",
      "source": [
        "# For displaying the generated colour palette as an image.\n",
        "import matplotlib.pyplot as plt\n",
        "\n",
        "# For numerical operations and image array creation.\n",
        "import numpy as np\n",
        "\n",
        "# For selecting random colours.\n",
        "import random\n",
        "\n",
        "# For creating and manipulating images.\n",
        "from PIL import Image\n",
        "\n",
        "# For creating a dictionary with default list values.\n",
        "from collections import defaultdict"
      ],
      "metadata": {
        "id": "z65DPjtboaUN"
      },
      "execution_count": 1,
      "outputs": []
    },
    {
      "cell_type": "markdown",
      "source": [
        "##Define Thematic Colour Palettes\n",
        "\n",
        "This dictionary contains predefined colour palettes for different themes."
      ],
      "metadata": {
        "id": "itLjOxHco2mY"
      }
    },
    {
      "cell_type": "code",
      "source": [
        "color_palettes = {\n",
        "    \"sunset\": [\"#FF5733\", \"#E67E22\", \"#D35400\", \"#C0392B\", \"#A93226\"],\n",
        "    \"ocean\": [\"#3498DB\", \"#5DADE2\", \"#1B4F72\", \"#154360\", \"#2874A6\"],\n",
        "    \"forest\": [\"#2ECC71\", \"#27AE60\", \"#229954\", \"#145A32\", \"#0E6655\"],\n",
        "    \"desert\": [\"#F1C40F\", \"#F39C12\", \"#D68910\", \"#B9770E\", \"#9C640C\"],\n",
        "    \"twilight\": [\"#9B59B6\", \"#8E44AD\", \"#6C3483\", \"#5B2C6F\", \"#4A235A\"],\n",
        "    \"fire\": [\"#E74C3C\", \"#C0392B\", \"#A93226\", \"#922B21\", \"#7B241C\"],\n",
        "    \"water\": [\"#85C1E9\", \"#5DADE2\", \"#2874A6\", \"#1F618D\", \"#154360\"],\n",
        "    \"sand\": [\"#FAD7A0\", \"#F5B041\", \"#D4AC0D\", \"#A77E0E\", \"#8F5902\"],\n",
        "    \"ice\": [\"#D6EAF8\", \"#AED6F1\", \"#85C1E9\", \"#5DADE2\", \"#3498DB\"],\n",
        "    \"lava\": [\"#FF4500\", \"#E63900\", \"#C70000\", \"#8B0000\", \"#5B0000\"],\n",
        "    \"meadow\": [\"#A9DFBF\", \"#58D68D\", \"#28B463\", \"#1D8348\", \"#145A32\"],\n",
        "    \"storm\": [\"#5D6D7E\", \"#34495E\", \"#2C3E50\", \"#1C2833\", \"#0B0C10\"],\n",
        "    \"rose\": [\"#FFC0CB\", \"#FF69B4\", \"#DB7093\", \"#C71585\", \"#8B3A62\"],\n",
        "    \"gold\": [\"#FFD700\", \"#FFC107\", \"#DAA520\", \"#B8860B\", \"#8B6508\"],\n",
        "    \"amethyst\": [\"#B39DDB\", \"#9575CD\", \"#7E57C2\", \"#5E35B1\", \"#4A235A\"],\n",
        "    \"emerald\": [\"#50C878\", \"#2E8B57\", \"#1E7040\", \"#145A32\", \"#0B5345\"],\n",
        "    \"cherry\": [\"#FF4C4C\", \"#E60026\", \"#B22222\", \"#800000\", \"#5B0000\"],\n",
        "    \"midnight\": [\"#2C3E50\", \"#1C2833\", \"#0E1A25\", \"#040F1A\", \"#000814\"],\n",
        "    \"autumn\": [\"#D35400\", \"#A04000\", \"#873600\", \"#6E2C00\", \"#512E25\"],\n",
        "    \"spring\": [\"#E8F8F5\", \"#ABEBC6\", \"#58D68D\", \"#28B463\", \"#1D8348\"],\n",
        "    \"winter\": [\"#D6EAF8\", \"#AED6F1\", \"#85C1E9\", \"#5DADE2\", \"#3498DB\"],\n",
        "    \"royal\": [\"#6A5ACD\", \"#483D8B\", \"#4B0082\", \"#2E1A47\", \"#1B1B2F\"],\n",
        "    \"shadow\": [\"#5D6D7E\", \"#34495E\", \"#2C3E50\", \"#1C2833\", \"#0B0C10\"],\n",
        "    \"peach\": [\"#FFE5B4\", \"#FFCBA4\", \"#FFB07C\", \"#FF8C42\", \"#E76F51\"],\n",
        "    \"lavender\": [\"#E6E6FA\", \"#D8BFD8\", \"#CDA4DE\", \"#B57EDC\", \"#7B68EE\"],\n",
        "    \"earth\": [\"#8B4513\", \"#A0522D\", \"#D2691E\", \"#CD853F\", \"#BC8F8F\"],\n",
        "    \"space\": [\"#000000\", \"#1A1A2E\", \"#16213E\", \"#0F3460\", \"#53354A\"],\n",
        "    \"berry\": [\"#8E44AD\", \"#9B59B6\", \"#AF7AC5\", \"#D2B4DE\", \"#6C3483\"],\n",
        "    \"dawn\": [\"#FFC3A0\", \"#FFA07A\", \"#FF7F50\", \"#FF6347\", \"#D84315\"],\n",
        "    \"dusk\": [\"#FF8C42\", \"#D95D39\", \"#C53030\", \"#9B2C2C\", \"#6E1A1A\"],\n",
        "    \"sky\": [\"#87CEEB\", \"#00BFFF\", \"#1E90FF\", \"#4682B4\", \"#5F9EA0\"],\n",
        "    \"candy\": [\"#FF69B4\", \"#FF1493\", \"#FF00FF\", \"#E0115F\", \"#C71585\"],\n",
        "    \"mint\": [\"#98FB98\", \"#90EE90\", \"#00FA9A\", \"#2E8B57\", \"#228B22\"],\n",
        "    \"denim\": [\"#1E3A5F\", \"#274C77\", \"#365486\", \"#5B84B1\", \"#8EAEBF\"],\n",
        "    \"jade\": [\"#00A86B\", \"#50C878\", \"#2F6D5A\", \"#3B7A57\", \"#1E4D2B\"],\n",
        "    \"mocha\": [\"#C0A080\", \"#8B5A2B\", \"#5C4033\", \"#4B2E2F\", \"#3B2F2F\"],\n",
        "    \"flame\": [\"#FF4500\", \"#FF6347\", \"#E25822\", \"#D84315\", \"#A52A2A\"],\n",
        "    \"cotton\": [\"#F8F8FF\", \"#FFF8E7\", \"#FFFAF0\", \"#E3DAC9\", \"#FAEBD7\"],\n",
        "    \"charcoal\": [\"#36454F\", \"#2F4F4F\", \"#232B2B\", \"#1C1C1C\", \"#0F0F0F\"],\n",
        "    \"periwinkle\": [\"#CCCCFF\", \"#B0E0E6\", \"#99C1DE\", \"#93C5FD\", \"#7B9FCC\"],\n",
        "    \"copper\": [\"#B87333\", \"#B66D32\", \"#C17E45\", \"#A05D31\", \"#8A3324\"],\n",
        "    \"obsidian\": [\"#0C0C0C\", \"#1E1E1E\", \"#2A2A2A\", \"#353535\", \"#424242\"],\n",
        "    \"maroon\": [\"#800000\", \"#B22222\", \"#8B0000\", \"#A52A2A\", \"#5B0000\"],\n",
        "    \"silver\": [\"#C0C0C0\", \"#B0B0B0\", \"#A9A9A9\", \"#808080\", \"#696969\"],\n",
        "    \"platinum\": [\"#E5E4E2\", \"#DCDCDC\", \"#C0C0C0\", \"#B0B0B0\", \"#A8A8A8\"],\n",
        "    \"stormy\": [\"#6C757D\", \"#5D6D7E\", \"#495057\", \"#343A40\", \"#212529\"],\n",
        "    \"glacier\": [\"#B0E0E6\", \"#A7C7E7\", \"#87CEFA\", \"#6495ED\", \"#4682B4\"],\n",
        "    \"onyx\": [\"#353839\", \"#2E2E2E\", \"#242424\", \"#1C1C1C\", \"#141414\"],\n",
        "    \"honey\": [\"#FFD700\", \"#FFBF00\", \"#DAA520\", \"#B8860B\", \"#8B6508\"],\n",
        "    \"sapphire\": [\"#0F52BA\", \"#0050A1\", \"#003F88\", \"#002B5B\", \"#001A3D\"],\n",
        "}"
      ],
      "metadata": {
        "id": "hIbl-t3co4rW"
      },
      "execution_count": 2,
      "outputs": []
    }
  ]
}