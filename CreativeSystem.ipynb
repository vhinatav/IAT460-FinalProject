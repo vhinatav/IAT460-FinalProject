{
  "nbformat": 4,
  "nbformat_minor": 0,
  "metadata": {
    "colab": {
      "provenance": [],
      "authorship_tag": "ABX9TyMa6RBl1Iwfdarzg1CstkaX",
      "include_colab_link": true
    },
    "kernelspec": {
      "name": "python3",
      "display_name": "Python 3"
    },
    "language_info": {
      "name": "python"
    }
  },
  "cells": [
    {
      "cell_type": "markdown",
      "metadata": {
        "id": "view-in-github",
        "colab_type": "text"
      },
      "source": [
        "<a href=\"https://colab.research.google.com/github/vhinatav/IAT460-FinalProject/blob/main/CreativeSystem.ipynb\" target=\"_parent\"><img src=\"https://colab.research.google.com/assets/colab-badge.svg\" alt=\"Open In Colab\"/></a>"
      ]
    },
    {
      "cell_type": "markdown",
      "source": [
        "#**Colour Palette Generator with a Markov Chain Model**\n",
        "\n",
        "This system generates a colour palette based on user-provided keywords using a Markov Chain model. It selects colours from predefined themes, constructs a Markov model to determine color transitions, and then visualizes the resulting palette using an image."
      ],
      "metadata": {
        "id": "MoZvxlHooCHr"
      }
    },
    {
      "cell_type": "markdown",
      "source": [
        "##Import Necessary Libraries"
      ],
      "metadata": {
        "id": "lukGA3FWoXcR"
      }
    },
    {
      "cell_type": "code",
      "source": [
        "# For displaying the generated colour palette as an image.\n",
        "import matplotlib.pyplot as plt\n",
        "\n",
        "# For numerical operations and image array creation.\n",
        "import numpy as np\n",
        "\n",
        "# For selecting random colours.\n",
        "import random\n",
        "\n",
        "# For creating and manipulating images.\n",
        "from PIL import Image\n",
        "\n",
        "# For creating a dictionary with default list values.\n",
        "from collections import defaultdict"
      ],
      "metadata": {
        "id": "z65DPjtboaUN"
      },
      "execution_count": 6,
      "outputs": []
    },
    {
      "cell_type": "markdown",
      "source": [
        "##Define Thematic Colour Palettes\n",
        "\n",
        "This dictionary contains predefined colour palettes for different themes."
      ],
      "metadata": {
        "id": "itLjOxHco2mY"
      }
    },
    {
      "cell_type": "code",
      "source": [
        "# Emotion Verion\n",
        "colour_palettes = {\n",
        "    \"joy\": [\"#FFD700\", \"#FFEC8B\", \"#FFC107\", \"#FFDD44\", \"#F4A000\"],\n",
        "    \"happiness\": [\"#FFDA03\", \"#FFC300\", \"#FF5733\", \"#FFA500\", \"#F7B733\"],\n",
        "    \"love\": [\"#FF4C4C\", \"#E60026\", \"#B22222\", \"#C71585\", \"#800000\"],\n",
        "    \"passion\": [\"#FF2400\", \"#E32636\", \"#C21807\", \"#8B0000\", \"#FF4500\"],\n",
        "    \"excitement\": [\"#FF5733\", \"#FF4500\", \"#E67E22\", \"#D35400\", \"#C0392B\"],\n",
        "    \"anger\": [\"#B22222\", \"#8B0000\", \"#FF0000\", \"#A52A2A\", \"#7B241C\"],\n",
        "    \"rage\": [\"#800000\", \"#5B0000\", \"#A93226\", \"#922B21\", \"#660000\"],\n",
        "    \"sadness\": [\"#5DADE2\", \"#2874A6\", \"#154360\", \"#2C3E50\", \"#1B4F72\"],\n",
        "    \"melancholy\": [\"#6C757D\", \"#5D6D7E\", \"#495057\", \"#34495E\", \"#2C3E50\"],\n",
        "    \"serenity\": [\"#85C1E9\", \"#AED6F1\", \"#D6EAF8\", \"#A2D9CE\", \"#E8F8F5\"],\n",
        "    \"calm\": [\"#B3E5FC\", \"#81D4FA\", \"#4FC3F7\", \"#29B6F6\", \"#039BE5\"],\n",
        "    \"peace\": [\"#00A86B\", \"#50C878\", \"#2F6D5A\", \"#3B7A57\", \"#1E4D2B\"],\n",
        "    \"trust\": [\"#1E90FF\", \"#4682B4\", \"#5F9EA0\", \"#008B8B\", \"#00CED1\"],\n",
        "    \"hope\": [\"#FFD700\", \"#FFC107\", \"#FFDD44\", \"#F4A000\", \"#F1C40F\"],\n",
        "    \"courage\": [\"#FF5733\", \"#D84315\", \"#A93226\", \"#E74C3C\", \"#B22222\"],\n",
        "    \"fear\": [\"#2C3E50\", \"#1C2833\", \"#0E1A25\", \"#040F1A\", \"#000814\"],\n",
        "    \"anxiety\": [\"#6C757D\", \"#5D6D7E\", \"#495057\", \"#2C3E50\", \"#1B2631\"],\n",
        "    \"loneliness\": [\"#34495E\", \"#2C3E50\", \"#1C2833\", \"#0B0C10\", \"#000814\"],\n",
        "    \"grief\": [\"#5D6D7E\", \"#495057\", \"#2C3E50\", \"#1B2631\", \"#0E1A25\"],\n",
        "    \"jealousy\": [\"#9ACD32\", \"#6B8E23\", \"#556B2F\", \"#2E8B57\", \"#228B22\"],\n",
        "    \"envy\": [\"#76B947\", \"#4C9A2A\", \"#2C6A23\", \"#145A32\", \"#0B3D02\"],\n",
        "    \"shame\": [\"#6C757D\", \"#5D6D7E\", \"#495057\", \"#343A40\", \"#2C3E50\"],\n",
        "    \"pride\": [\"#FFD700\", \"#FF4500\", \"#FF1493\", \"#800080\", \"#00BFFF\"],\n",
        "    \"surprise\": [\"#FF4500\", \"#FF6347\", \"#E25822\", \"#FFD700\", \"#FFC107\"],\n",
        "    \"contentment\": [\"#FAD7A0\", \"#F5B041\", \"#D4AC0D\", \"#A77E0E\", \"#8F5902\"],\n",
        "    \"gratitude\": [\"#FFD700\", \"#FFA500\", \"#FFC300\", \"#FFDD44\", \"#FFEC8B\"],\n",
        "    \"nostalgia\": [\"#D2B48C\", \"#BC8F8F\", \"#A0522D\", \"#8B4513\", \"#5C4033\"],\n",
        "    \"boredom\": [\"#B0B0B0\", \"#A9A9A9\", \"#808080\", \"#696969\", \"#585858\"],\n",
        "    \"frustration\": [\"#D9534F\", \"#C0392B\", \"#A93226\", \"#922B21\", \"#7B241C\"],\n",
        "    \"embarrassment\": [\"#FFC0CB\", \"#FF69B4\", \"#DB7093\", \"#C71585\", \"#8B3A62\"],\n",
        "    \"affection\": [\"#FFB6C1\", \"#FF69B4\", \"#DB7093\", \"#C71585\", \"#A52A2A\"],\n",
        "    \"compassion\": [\"#FFDAB9\", \"#FFE4B5\", \"#FFDEAD\", \"#F4A460\", \"#CD853F\"],\n",
        "    \"determination\": [\"#FF4500\", \"#E25822\", \"#D84315\", \"#B22222\", \"#8B0000\"],\n",
        "    \"confidence\": [\"#1E90FF\", \"#4682B4\", \"#5F9EA0\", \"#008B8B\", \"#00CED1\"],\n",
        "    \"humility\": [\"#E0E0E0\", \"#C0C0C0\", \"#A9A9A9\", \"#808080\", \"#696969\"],\n",
        "    \"optimism\": [\"#FFD700\", \"#FFEC8B\", \"#FFC107\", \"#FFDD44\", \"#F1C40F\"],\n",
        "    \"pessimism\": [\"#6C757D\", \"#5D6D7E\", \"#495057\", \"#2C3E50\", \"#1B2631\"],\n",
        "    \"curiosity\": [\"#FFA07A\", \"#FF7F50\", \"#FF6347\", \"#E25822\", \"#D84315\"],\n",
        "    \"playfulness\": [\"#FF69B4\", \"#FF1493\", \"#FF00FF\", \"#E0115F\", \"#C71585\"],\n",
        "    \"awkwardness\": [\"#D3D3D3\", \"#B0B0B0\", \"#808080\", \"#696969\", \"#585858\"],\n",
        "    \"isolation\": [\"#34495E\", \"#2C3E50\", \"#1C2833\", \"#0B0C10\", \"#000814\"],\n",
        "    \"relaxation\": [\"#98FB98\", \"#90EE90\", \"#00FA9A\", \"#2E8B57\", \"#228B22\"],\n",
        "    \"resentment\": [\"#9B870C\", \"#806517\", \"#654321\", \"#8B4513\", \"#5C4033\"],\n",
        "    \"trust\": [\"#1E90FF\", \"#4682B4\", \"#5F9EA0\", \"#008B8B\", \"#00CED1\"],\n",
        "    \"guilt\": [\"#6C757D\", \"#5D6D7E\", \"#495057\", \"#2C3E50\", \"#1B2631\"],\n",
        "    \"hope\": [\"#FFD700\", \"#FFC107\", \"#FFDD44\", \"#F4A000\", \"#F1C40F\"],\n",
        "    \"despair\": [\"#2C3E50\", \"#1C2833\", \"#0E1A25\", \"#040F1A\", \"#000814\"],\n",
        "    \"euphoria\": [\"#FFD700\", \"#FF4500\", \"#FF1493\", \"#800080\", \"#00BFFF\"],\n",
        "}\n",
        "\n",
        "# Random Verion\n",
        "# colour_palettes = {\n",
        "#     \"sunset\": [\"#FF5733\", \"#E67E22\", \"#D35400\", \"#C0392B\", \"#A93226\"],\n",
        "#     \"ocean\": [\"#3498DB\", \"#5DADE2\", \"#1B4F72\", \"#154360\", \"#2874A6\"],\n",
        "#     \"forest\": [\"#2ECC71\", \"#27AE60\", \"#229954\", \"#145A32\", \"#0E6655\"],\n",
        "#     \"desert\": [\"#F1C40F\", \"#F39C12\", \"#D68910\", \"#B9770E\", \"#9C640C\"],\n",
        "#     \"twilight\": [\"#9B59B6\", \"#8E44AD\", \"#6C3483\", \"#5B2C6F\", \"#4A235A\"],\n",
        "#     \"fire\": [\"#E74C3C\", \"#C0392B\", \"#A93226\", \"#922B21\", \"#7B241C\"],\n",
        "#     \"water\": [\"#85C1E9\", \"#5DADE2\", \"#2874A6\", \"#1F618D\", \"#154360\"],\n",
        "#     \"sand\": [\"#FAD7A0\", \"#F5B041\", \"#D4AC0D\", \"#A77E0E\", \"#8F5902\"],\n",
        "#     \"ice\": [\"#D6EAF8\", \"#AED6F1\", \"#85C1E9\", \"#5DADE2\", \"#3498DB\"],\n",
        "#     \"lava\": [\"#FF4500\", \"#E63900\", \"#C70000\", \"#8B0000\", \"#5B0000\"],\n",
        "#     \"meadow\": [\"#A9DFBF\", \"#58D68D\", \"#28B463\", \"#1D8348\", \"#145A32\"],\n",
        "#     \"storm\": [\"#5D6D7E\", \"#34495E\", \"#2C3E50\", \"#1C2833\", \"#0B0C10\"],\n",
        "#     \"rose\": [\"#FFC0CB\", \"#FF69B4\", \"#DB7093\", \"#C71585\", \"#8B3A62\"],\n",
        "#     \"gold\": [\"#FFD700\", \"#FFC107\", \"#DAA520\", \"#B8860B\", \"#8B6508\"],\n",
        "#     \"amethyst\": [\"#B39DDB\", \"#9575CD\", \"#7E57C2\", \"#5E35B1\", \"#4A235A\"],\n",
        "#     \"emerald\": [\"#50C878\", \"#2E8B57\", \"#1E7040\", \"#145A32\", \"#0B5345\"],\n",
        "#     \"cherry\": [\"#FF4C4C\", \"#E60026\", \"#B22222\", \"#800000\", \"#5B0000\"],\n",
        "#     \"midnight\": [\"#2C3E50\", \"#1C2833\", \"#0E1A25\", \"#040F1A\", \"#000814\"],\n",
        "#     \"autumn\": [\"#D35400\", \"#A04000\", \"#873600\", \"#6E2C00\", \"#512E25\"],\n",
        "#     \"spring\": [\"#E8F8F5\", \"#ABEBC6\", \"#58D68D\", \"#28B463\", \"#1D8348\"],\n",
        "#     \"winter\": [\"#D6EAF8\", \"#AED6F1\", \"#85C1E9\", \"#5DADE2\", \"#3498DB\"],\n",
        "#     \"royal\": [\"#6A5ACD\", \"#483D8B\", \"#4B0082\", \"#2E1A47\", \"#1B1B2F\"],\n",
        "#     \"shadow\": [\"#5D6D7E\", \"#34495E\", \"#2C3E50\", \"#1C2833\", \"#0B0C10\"],\n",
        "#     \"peach\": [\"#FFE5B4\", \"#FFCBA4\", \"#FFB07C\", \"#FF8C42\", \"#E76F51\"],\n",
        "#     \"lavender\": [\"#E6E6FA\", \"#D8BFD8\", \"#CDA4DE\", \"#B57EDC\", \"#7B68EE\"],\n",
        "#     \"earth\": [\"#8B4513\", \"#A0522D\", \"#D2691E\", \"#CD853F\", \"#BC8F8F\"],\n",
        "#     \"space\": [\"#000000\", \"#1A1A2E\", \"#16213E\", \"#0F3460\", \"#53354A\"],\n",
        "#     \"berry\": [\"#8E44AD\", \"#9B59B6\", \"#AF7AC5\", \"#D2B4DE\", \"#6C3483\"],\n",
        "#     \"dawn\": [\"#FFC3A0\", \"#FFA07A\", \"#FF7F50\", \"#FF6347\", \"#D84315\"],\n",
        "#     \"dusk\": [\"#FF8C42\", \"#D95D39\", \"#C53030\", \"#9B2C2C\", \"#6E1A1A\"],\n",
        "#     \"sky\": [\"#87CEEB\", \"#00BFFF\", \"#1E90FF\", \"#4682B4\", \"#5F9EA0\"],\n",
        "#     \"candy\": [\"#FF69B4\", \"#FF1493\", \"#FF00FF\", \"#E0115F\", \"#C71585\"],\n",
        "#     \"mint\": [\"#98FB98\", \"#90EE90\", \"#00FA9A\", \"#2E8B57\", \"#228B22\"],\n",
        "#     \"denim\": [\"#1E3A5F\", \"#274C77\", \"#365486\", \"#5B84B1\", \"#8EAEBF\"],\n",
        "#     \"jade\": [\"#00A86B\", \"#50C878\", \"#2F6D5A\", \"#3B7A57\", \"#1E4D2B\"],\n",
        "#     \"mocha\": [\"#C0A080\", \"#8B5A2B\", \"#5C4033\", \"#4B2E2F\", \"#3B2F2F\"],\n",
        "#     \"flame\": [\"#FF4500\", \"#FF6347\", \"#E25822\", \"#D84315\", \"#A52A2A\"],\n",
        "#     \"cotton\": [\"#F8F8FF\", \"#FFF8E7\", \"#FFFAF0\", \"#E3DAC9\", \"#FAEBD7\"],\n",
        "#     \"charcoal\": [\"#36454F\", \"#2F4F4F\", \"#232B2B\", \"#1C1C1C\", \"#0F0F0F\"],\n",
        "#     \"periwinkle\": [\"#CCCCFF\", \"#B0E0E6\", \"#99C1DE\", \"#93C5FD\", \"#7B9FCC\"],\n",
        "#     \"copper\": [\"#B87333\", \"#B66D32\", \"#C17E45\", \"#A05D31\", \"#8A3324\"],\n",
        "#     \"obsidian\": [\"#0C0C0C\", \"#1E1E1E\", \"#2A2A2A\", \"#353535\", \"#424242\"],\n",
        "#     \"maroon\": [\"#800000\", \"#B22222\", \"#8B0000\", \"#A52A2A\", \"#5B0000\"],\n",
        "#     \"silver\": [\"#C0C0C0\", \"#B0B0B0\", \"#A9A9A9\", \"#808080\", \"#696969\"],\n",
        "#     \"platinum\": [\"#E5E4E2\", \"#DCDCDC\", \"#C0C0C0\", \"#B0B0B0\", \"#A8A8A8\"],\n",
        "#     \"stormy\": [\"#6C757D\", \"#5D6D7E\", \"#495057\", \"#343A40\", \"#212529\"],\n",
        "#     \"glacier\": [\"#B0E0E6\", \"#A7C7E7\", \"#87CEFA\", \"#6495ED\", \"#4682B4\"],\n",
        "#     \"onyx\": [\"#353839\", \"#2E2E2E\", \"#242424\", \"#1C1C1C\", \"#141414\"],\n",
        "#     \"honey\": [\"#FFD700\", \"#FFBF00\", \"#DAA520\", \"#B8860B\", \"#8B6508\"],\n",
        "#     \"sapphire\": [\"#0F52BA\", \"#0050A1\", \"#003F88\", \"#002B5B\", \"#001A3D\"],\n",
        "# }"
      ],
      "metadata": {
        "id": "hIbl-t3co4rW"
      },
      "execution_count": 7,
      "outputs": []
    },
    {
      "cell_type": "markdown",
      "source": [
        "##Build the Markov Model\n",
        "\n",
        "This function constructs a Markov model where each colour has a list of possible subsequent colours based on the order they appear in the palettes."
      ],
      "metadata": {
        "id": "2JElaBqlqLkC"
      }
    },
    {
      "cell_type": "code",
      "source": [
        "def build_markov_model(palette_data):\n",
        "\n",
        "    # Initialize a dictionary with lists as default values.\n",
        "    model = defaultdict(lambda: [])\n",
        "\n",
        "    # Iterate over the colour list except the last item.\n",
        "    for i in range(len(palette_data) - 1):\n",
        "\n",
        "        # Map each colour to the next colour in sequence.\n",
        "        model[palette_data[i]].append(palette_data[i + 1])\n",
        "\n",
        "    # Return the Markov model.\n",
        "    return model"
      ],
      "metadata": {
        "id": "TlCvKwdmpyli"
      },
      "execution_count": 8,
      "outputs": []
    },
    {
      "cell_type": "markdown",
      "source": [
        "##Generate a Colour Palette Using Markov\n",
        "\n",
        "This function creates a palette based on user-selected themes and the Markov model."
      ],
      "metadata": {
        "id": "GPrKvjCUqoEv"
      }
    },
    {
      "cell_type": "code",
      "source": [
        "def generate_palette_markov(keywords, model, length=5):\n",
        "\n",
        "    # Initialize an empty list to store starting colours.\n",
        "    colours = []\n",
        "\n",
        "    # Select a starting colour from the chosen themes.\n",
        "    for keyword in keywords:\n",
        "        if keyword in colour_palettes:\n",
        "            # Pick a random colour from the theme.\n",
        "            colours.append(random.choice(colour_palettes[keyword]))\n",
        "\n",
        "    # If none of the keywords match, return a default gray colour.\n",
        "    if not colours:\n",
        "        return [\"#808080\"]\n",
        "\n",
        "    # Begin with a randomly chosen colour from the selected themes.\n",
        "    palette = [random.choice(colours)]\n",
        "\n",
        "    # Generate the remaining colour using the Markov model.\n",
        "    for _ in range(length - 1):\n",
        "\n",
        "        # Pick the next colour based on Markov transition.\n",
        "        next_colour = random.choice(model.get(palette[-1], palette))\n",
        "\n",
        "        # Add the chosen colour to the palette.\n",
        "        palette.append(next_colour)\n",
        "\n",
        "    # Return the generated palette.\n",
        "    return palette"
      ],
      "metadata": {
        "id": "QkAldzKGqp89"
      },
      "execution_count": 9,
      "outputs": []
    },
    {
      "cell_type": "markdown",
      "source": [
        "##Generate an Image from Colours\n",
        "\n",
        "This function creates a rectangular image displaying the generated colour palette."
      ],
      "metadata": {
        "id": "7jemm2Gjrdom"
      }
    },
    {
      "cell_type": "code",
      "source": [
        "def generate_palette_image(hex_codes):\n",
        "\n",
        "    # Image height in pixels.\n",
        "    img_height = 256\n",
        "\n",
        "    # Each colour block is 64 pixels wide.\n",
        "    img_width = len(hex_codes) * 64\n",
        "\n",
        "    # Initialize an empty RGB image array.\n",
        "    img_array = np.zeros((img_height, img_width, 3), dtype=np.uint8)\n",
        "\n",
        "    # Convert each hex colour to RGB and fill the corresponding section of the image.\n",
        "    for i, hex_code in enumerate(hex_codes):\n",
        "\n",
        "        # Convert hex to RGB.\n",
        "        base_colour = np.array([int(hex_code[j:j+2], 16) for j in (1, 3, 5)])\n",
        "\n",
        "        # Assign the colour to the corresponding section.\n",
        "        img_array[:, i * 64:(i + 1) * 64] = base_colour\n",
        "\n",
        "    # Convert the NumPy array into an image.\n",
        "    img = Image.fromarray(img_array, 'RGB')\n",
        "\n",
        "    # Return the generated image.\n",
        "    return img"
      ],
      "metadata": {
        "id": "5_d9A2wLrgFb"
      },
      "execution_count": 10,
      "outputs": []
    },
    {
      "cell_type": "markdown",
      "source": [
        "##Main Execution\n",
        "\n",
        "The main function asks the user for colour-related keywords, generates a colour palette using the Markov model, and displays the resulting palette."
      ],
      "metadata": {
        "id": "2vy1ozKfr4wI"
      }
    },
    {
      "cell_type": "code",
      "source": [
        "def main():\n",
        "    # Get user input for three colour-related words.\n",
        "    keywords = input(\"Enter three words of emotion (e.g., 'love, joy, sadness'): \").lower().split(\", \")\n",
        "\n",
        "    # Ensure the user enters exactly three keywords.\n",
        "    if len(keywords) != 3:\n",
        "        print(\"Please enter exactly three words.\")\n",
        "\n",
        "        # Exit if the input is invalid.\n",
        "        return\n",
        "\n",
        "    # Build the Markov model using all colours from the predefined palettes.\n",
        "    markov_data = [colour for category in colour_palettes.values() for colour in category]\n",
        "\n",
        "    # Construct the Markov model.\n",
        "    markov_model = build_markov_model(markov_data)\n",
        "\n",
        "    # Generate a colour palette based on the user's keywords.\n",
        "    hex_codes = generate_palette_markov(keywords, markov_model)\n",
        "\n",
        "    # Create and display an image of the generated palette.\n",
        "    img = generate_palette_image(hex_codes)\n",
        "\n",
        "    # Display the image using Matplotlib.\n",
        "    plt.imshow(img)\n",
        "\n",
        "    # Hide the axes for a cleaner presentation.\n",
        "    plt.axis('off')\n",
        "\n",
        "    # Show the final output.\n",
        "    plt.show()"
      ],
      "metadata": {
        "id": "eF87rNgdr7st"
      },
      "execution_count": 19,
      "outputs": []
    },
    {
      "cell_type": "markdown",
      "source": [
        "##Run the Script if Executed\n",
        "\n",
        "If this script is run directly (not imported), execute the main function."
      ],
      "metadata": {
        "id": "1CFfXxZpsPDa"
      }
    },
    {
      "cell_type": "code",
      "source": [
        "if __name__ == \"__main__\":\n",
        "    main()"
      ],
      "metadata": {
        "colab": {
          "base_uri": "https://localhost:8080/",
          "height": 423
        },
        "id": "6gy7TVwksSe_",
        "outputId": "1e784e8a-d39b-4d51-e6ed-95f2525ac56a"
      },
      "execution_count": 38,
      "outputs": [
        {
          "name": "stdout",
          "output_type": "stream",
          "text": [
            "Enter three words of emotion (e.g., 'love, joy, sadness'): love, joy, sadness\n"
          ]
        },
        {
          "output_type": "display_data",
          "data": {
            "text/plain": [
              "<Figure size 640x480 with 1 Axes>"
            ],
            "image/png": "[encoded data removed]"
          },
          "metadata": {}
        }
      ]
    }
  ]
}