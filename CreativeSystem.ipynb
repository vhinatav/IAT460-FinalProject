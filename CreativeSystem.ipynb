{
  "nbformat": 4,
  "nbformat_minor": 0,
  "metadata": {
    "colab": {
      "provenance": [],
      "authorship_tag": "ABX9TyMzK6tJDdSP7IGDZxuZCR1E",
      "include_colab_link": true
    },
    "kernelspec": {
      "name": "python3",
      "display_name": "Python 3"
    },
    "language_info": {
      "name": "python"
    }
  },
  "cells": [
    {
      "cell_type": "markdown",
      "metadata": {
        "id": "view-in-github",
        "colab_type": "text"
      },
      "source": [
        "<a href=\"https://colab.research.google.com/github/vhinatav/IAT460-FinalProject/blob/main/CreativeSystem.ipynb\" target=\"_parent\"><img src=\"https://colab.research.google.com/assets/colab-badge.svg\" alt=\"Open In Colab\"/></a>"
      ]
    },
    {
      "cell_type": "markdown",
      "source": [
        "#**Colour Palette Generator with a Markov Chain Model**\n",
        "\n",
        "This system generates a colour palette based on user-provided keywords using a Markov Chain model. It selects colours from predefined themes, constructs a Markov model to determine color transitions, and then visualizes the resulting palette using an image."
      ],
      "metadata": {
        "id": "MoZvxlHooCHr"
      }
    },
    {
      "cell_type": "markdown",
      "source": [
        "##Import Necessary Libraries"
      ],
      "metadata": {
        "id": "lukGA3FWoXcR"
      }
    },
    {
      "cell_type": "code",
      "source": [
        "# For displaying the generated colour palette as an image.\n",
        "import matplotlib.pyplot as plt\n",
        "\n",
        "# For numerical operations and image array creation.\n",
        "import numpy as np\n",
        "\n",
        "# For selecting random colours.\n",
        "import random\n",
        "\n",
        "# For creating and manipulating images.\n",
        "from PIL import Image\n",
        "\n",
        "# For creating a dictionary with default list values.\n",
        "from collections import defaultdict"
      ],
      "metadata": {
        "id": "z65DPjtboaUN"
      },
      "execution_count": 1,
      "outputs": []
    }
  ]
}