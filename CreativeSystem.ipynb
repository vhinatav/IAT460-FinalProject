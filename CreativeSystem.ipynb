{
  "nbformat": 4,
  "nbformat_minor": 0,
  "metadata": {
    "colab": {
      "provenance": [],
      "authorship_tag": "ABX9TyPgo9TftVND5eqcalV4gCXo",
      "include_colab_link": true
    },
    "kernelspec": {
      "name": "python3",
      "display_name": "Python 3"
    },
    "language_info": {
      "name": "python"
    }
  },
  "cells": [
    {
      "cell_type": "markdown",
      "metadata": {
        "id": "view-in-github",
        "colab_type": "text"
      },
      "source": [
        "<a href=\"https://colab.research.google.com/github/vhinatav/IAT460-FinalProject/blob/main/CreativeSystem.ipynb\" target=\"_parent\"><img src=\"https://colab.research.google.com/assets/colab-badge.svg\" alt=\"Open In Colab\"/></a>"
      ]
    },
    {
      "cell_type": "markdown",
      "source": [
        "#**Colour Palette Generator with a Markov Chain Model**\n",
        "\n",
        "This system generates a colour palette based on user-provided keywords using a Markov Chain model. It selects colours from predefined themes, constructs a Markov model to determine color transitions, and then visualizes the resulting palette using an image."
      ],
      "metadata": {
        "id": "MoZvxlHooCHr"
      }
    }
  ]
}